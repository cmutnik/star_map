{
 "cells": [
  {
   "cell_type": "code",
   "execution_count": 1,
   "metadata": {},
   "outputs": [
    {
     "name": "stdout",
     "output_type": "stream",
     "text": [
      "Requirement already satisfied: astropy in /Users/cmutnik/codes/miniconda/envs/astro38/lib/python3.8/site-packages (5.2.2)\n",
      "Requirement already satisfied: numpy>=1.20 in /Users/cmutnik/codes/miniconda/envs/astro38/lib/python3.8/site-packages (from astropy) (1.24.3)\n",
      "Requirement already satisfied: PyYAML>=3.13 in /Users/cmutnik/codes/miniconda/envs/astro38/lib/python3.8/site-packages (from astropy) (6.0)\n",
      "Requirement already satisfied: packaging>=19.0 in /Users/cmutnik/codes/miniconda/envs/astro38/lib/python3.8/site-packages (from astropy) (23.1)\n",
      "Requirement already satisfied: pyerfa>=2.0 in /Users/cmutnik/codes/miniconda/envs/astro38/lib/python3.8/site-packages (from astropy) (2.0.0.3)\n",
      "Collecting astroquery\n",
      "  Downloading astroquery-0.4.6-py3-none-any.whl (4.5 MB)\n",
      "\u001b[2K     \u001b[90m━━━━━━━━━━━━━━━━━━━━━━━━━━━━━━━━━━━━━━━━\u001b[0m \u001b[32m4.5/4.5 MB\u001b[0m \u001b[31m2.6 MB/s\u001b[0m eta \u001b[36m0:00:00\u001b[0m00:01\u001b[0m00:01\u001b[0m0m\n",
      "\u001b[?25hRequirement already satisfied: astropy>=4.0 in /Users/cmutnik/codes/miniconda/envs/astro38/lib/python3.8/site-packages (from astroquery) (5.2.2)\n",
      "Collecting beautifulsoup4>=4.3.2\n",
      "  Downloading beautifulsoup4-4.12.2-py3-none-any.whl (142 kB)\n",
      "\u001b[2K     \u001b[90m━━━━━━━━━━━━━━━━━━━━━━━━━━━━━━━━━━━━━━━\u001b[0m \u001b[32m143.0/143.0 kB\u001b[0m \u001b[31m4.6 MB/s\u001b[0m eta \u001b[36m0:00:00\u001b[0m\n",
      "\u001b[?25hCollecting requests>=2.4.3\n",
      "  Downloading requests-2.30.0-py3-none-any.whl (62 kB)\n",
      "\u001b[2K     \u001b[90m━━━━━━━━━━━━━━━━━━━━━━━━━━━━━━━━━━━━━━━━\u001b[0m \u001b[32m62.5/62.5 kB\u001b[0m \u001b[31m3.8 MB/s\u001b[0m eta \u001b[36m0:00:00\u001b[0m\n",
      "\u001b[?25hCollecting html5lib>=0.999\n",
      "  Using cached html5lib-1.1-py2.py3-none-any.whl (112 kB)\n",
      "Requirement already satisfied: numpy>=1.16 in /Users/cmutnik/codes/miniconda/envs/astro38/lib/python3.8/site-packages (from astroquery) (1.24.3)\n",
      "Collecting keyring>=4.0\n",
      "  Using cached keyring-23.13.1-py3-none-any.whl (37 kB)\n",
      "Collecting pyvo>=1.1\n",
      "  Downloading pyvo-1.4.1-py3-none-any.whl (887 kB)\n",
      "\u001b[2K     \u001b[90m━━━━━━━━━━━━━━━━━━━━━━━━━━━━━━━━━━━━━━━\u001b[0m \u001b[32m887.9/887.9 kB\u001b[0m \u001b[31m5.4 MB/s\u001b[0m eta \u001b[36m0:00:00\u001b[0m00:01\u001b[0m00:01\u001b[0m\n",
      "\u001b[?25hRequirement already satisfied: packaging>=19.0 in /Users/cmutnik/codes/miniconda/envs/astro38/lib/python3.8/site-packages (from astropy>=4.0->astroquery) (23.1)\n",
      "Requirement already satisfied: pyerfa>=2.0 in /Users/cmutnik/codes/miniconda/envs/astro38/lib/python3.8/site-packages (from astropy>=4.0->astroquery) (2.0.0.3)\n",
      "Requirement already satisfied: PyYAML>=3.13 in /Users/cmutnik/codes/miniconda/envs/astro38/lib/python3.8/site-packages (from astropy>=4.0->astroquery) (6.0)\n",
      "Collecting soupsieve>1.2\n",
      "  Downloading soupsieve-2.4.1-py3-none-any.whl (36 kB)\n",
      "Collecting webencodings\n",
      "  Using cached webencodings-0.5.1-py2.py3-none-any.whl (11 kB)\n",
      "Requirement already satisfied: six>=1.9 in /Users/cmutnik/codes/miniconda/envs/astro38/lib/python3.8/site-packages (from html5lib>=0.999->astroquery) (1.16.0)\n",
      "Collecting jaraco.classes\n",
      "  Using cached jaraco.classes-3.2.3-py3-none-any.whl (6.0 kB)\n",
      "Requirement already satisfied: importlib-metadata>=4.11.4 in /Users/cmutnik/codes/miniconda/envs/astro38/lib/python3.8/site-packages (from keyring>=4.0->astroquery) (6.6.0)\n",
      "Requirement already satisfied: importlib-resources in /Users/cmutnik/codes/miniconda/envs/astro38/lib/python3.8/site-packages (from keyring>=4.0->astroquery) (5.12.0)\n",
      "Collecting idna<4,>=2.5\n",
      "  Using cached idna-3.4-py3-none-any.whl (61 kB)\n",
      "Collecting certifi>=2017.4.17\n",
      "  Downloading certifi-2023.5.7-py3-none-any.whl (156 kB)\n",
      "\u001b[2K     \u001b[90m━━━━━━━━━━━━━━━━━━━━━━━━━━━━━━━━━━━━━━━\u001b[0m \u001b[32m157.0/157.0 kB\u001b[0m \u001b[31m3.2 MB/s\u001b[0m eta \u001b[36m0:00:00\u001b[0m00:01\u001b[0m\n",
      "\u001b[?25hCollecting urllib3<3,>=1.21.1\n",
      "  Downloading urllib3-2.0.2-py3-none-any.whl (123 kB)\n",
      "\u001b[2K     \u001b[90m━━━━━━━━━━━━━━━━━━━━━━━━━━━━━━━━━━━━━━━\u001b[0m \u001b[32m123.2/123.2 kB\u001b[0m \u001b[31m3.8 MB/s\u001b[0m eta \u001b[36m0:00:00\u001b[0m\n",
      "\u001b[?25hCollecting charset-normalizer<4,>=2\n",
      "  Using cached charset_normalizer-3.1.0-cp38-cp38-macosx_10_9_x86_64.whl (123 kB)\n",
      "Requirement already satisfied: zipp>=0.5 in /Users/cmutnik/codes/miniconda/envs/astro38/lib/python3.8/site-packages (from importlib-metadata>=4.11.4->keyring>=4.0->astroquery) (3.15.0)\n",
      "Collecting more-itertools\n",
      "  Using cached more_itertools-9.1.0-py3-none-any.whl (54 kB)\n",
      "Installing collected packages: webencodings, urllib3, soupsieve, more-itertools, idna, html5lib, charset-normalizer, certifi, requests, jaraco.classes, beautifulsoup4, pyvo, keyring, astroquery\n",
      "Successfully installed astroquery-0.4.6 beautifulsoup4-4.12.2 certifi-2023.5.7 charset-normalizer-3.1.0 html5lib-1.1 idna-3.4 jaraco.classes-3.2.3 keyring-23.13.1 more-itertools-9.1.0 pyvo-1.4.1 requests-2.30.0 soupsieve-2.4.1 urllib3-2.0.2 webencodings-0.5.1\n"
     ]
    }
   ],
   "source": [
    "# !pip install astropy\n",
    "# !pip install astroquery"
   ]
  },
  {
   "cell_type": "code",
   "execution_count": 2,
   "metadata": {},
   "outputs": [],
   "source": [
    "import astropy.units as u\n",
    "from astropy.coordinates import SkyCoord\n",
    "from astroquery.gaia import Gaia\n"
   ]
  },
  {
   "cell_type": "code",
   "execution_count": 3,
   "metadata": {},
   "outputs": [],
   "source": [
    "ra = 280\n",
    "dec = -60\n",
    "frame = \"icrs\""
   ]
  },
  {
   "cell_type": "code",
   "execution_count": 4,
   "metadata": {},
   "outputs": [
    {
     "name": "stdout",
     "output_type": "stream",
     "text": [
      "INFO: Query finished. [astroquery.utils.tap.core]\n",
      "        dist             solution_id     ...                                     datalink_url                                   \n",
      "                                         ...                                                                                    \n",
      "-------------------- ------------------- ... -----------------------------------------------------------------------------------\n",
      " 0.00260346369939069 1635721458409799680 ... https://gea.esac.esa.int/data-server/datalink/links?ID=Gaia+DR2+6636090334814214528\n",
      "0.003851874134771273 1635721458409799680 ... https://gea.esac.esa.int/data-server/datalink/links?ID=Gaia+DR2+6636090339113063296\n",
      "0.004545426500979364 1635721458409799680 ... https://gea.esac.esa.int/data-server/datalink/links?ID=Gaia+DR2+6636090334814217600\n",
      "                 ...                 ... ...                                                                                 ...\n",
      " 0.02030718597053477 1635721458409799680 ... https://gea.esac.esa.int/data-server/datalink/links?ID=Gaia+DR2+6636089514478069888\n",
      "0.020454730686785445 1635721458409799680 ... https://gea.esac.esa.int/data-server/datalink/links?ID=Gaia+DR2+6636066940131244288\n",
      "0.020802655215775415 1635721458409799680 ... https://gea.esac.esa.int/data-server/datalink/links?ID=Gaia+DR2+6636067141990822272\n",
      "0.021615117161849308 1635721458409799680 ... https://gea.esac.esa.int/data-server/datalink/links?ID=Gaia+DR2+6636090369173963776\n",
      "Length = 50 rows\n"
     ]
    }
   ],
   "source": [
    "coord = SkyCoord(ra=ra, dec=dec, unit=(u.degree, u.degree), frame=frame)\n",
    "width = u.Quantity(0.1, u.deg)\n",
    "height = u.Quantity(0.1, u.deg)\n",
    "r = Gaia.query_object_async(coordinate=coord, width=width, height=height)\n",
    "r.pprint(max_lines=12, max_width=130)"
   ]
  },
  {
   "cell_type": "code",
   "execution_count": null,
   "metadata": {},
   "outputs": [],
   "source": []
  },
  {
   "cell_type": "code",
   "execution_count": null,
   "metadata": {},
   "outputs": [],
   "source": []
  },
  {
   "cell_type": "code",
   "execution_count": null,
   "metadata": {},
   "outputs": [],
   "source": []
  },
  {
   "cell_type": "code",
   "execution_count": 6,
   "metadata": {},
   "outputs": [],
   "source": [
    "from astroquery.simbad import Simbad"
   ]
  },
  {
   "cell_type": "code",
   "execution_count": 7,
   "metadata": {},
   "outputs": [
    {
     "name": "stdout",
     "output_type": "stream",
     "text": [
      "   MAIN_ID          RA      ...     COO_BIBCODE     SCRIPT_NUMBER_ID\n",
      "                 \"h:m:s\"    ...                                     \n",
      "-------------- ------------ ... ------------------- ----------------\n",
      "PSR J0740+6620 07 40 45.799 ... 2018ApJ...859...93L                1\n"
     ]
    }
   ],
   "source": [
    "result_table = Simbad.query_object(\"psr j0740+6620\")\n",
    "result_table.pprint()"
   ]
  },
  {
   "cell_type": "code",
   "execution_count": 9,
   "metadata": {},
   "outputs": [
    {
     "name": "stdout",
     "output_type": "stream",
     "text": [
      "        MAIN_ID                RA      ...     COO_BIBCODE     SCRIPT_NUMBER_ID\n",
      "                            \"h:m:s\"    ...                                     \n",
      "------------------------ ------------- ... ------------------- ----------------\n",
      "          PSR J0740+6620  07 40 45.799 ... 2018ApJ...859...93L                1\n",
      "                     ...           ... ...                 ...              ...\n",
      "SDSS J074127.07+662127.2 07 41 27.0856 ... 2020yCat.1350....0G                1\n",
      "          TYC 4124-377-1 07 40 52.6193 ... 2020yCat.1350....0G                1\n",
      "Length = 8 rows\n"
     ]
    }
   ],
   "source": [
    "from astropy import coordinates\n",
    "import astropy.units as u\n",
    "\n",
    "psr_j0740p6620_icrs_coord_j2000 = \"07h40m45.799s +66d20m33.60s\"\n",
    "frame = \"icrs\"\n",
    "c = coordinates.SkyCoord(psr_j0740p6620_icrs_coord_j2000, frame=frame)\n",
    "r = 5 * u.arcminute\n",
    "result_table = Simbad.query_region(c, radius=r)\n",
    "result_table.pprint(show_unit=True, max_width=80, max_lines=8)"
   ]
  },
  {
   "cell_type": "code",
   "execution_count": 14,
   "metadata": {},
   "outputs": [
    {
     "name": "stdout",
     "output_type": "stream",
     "text": [
      "coords c=\n",
      "<SkyCoord (ICRS): (ra, dec) in deg\n",
      "    (115.19082917, 66.34266667)>\n"
     ]
    }
   ],
   "source": [
    "print(f\"coords c=\\n{c}\")"
   ]
  },
  {
   "cell_type": "code",
   "execution_count": 26,
   "metadata": {},
   "outputs": [
    {
     "data": {
      "text/plain": [
       "[<astropy.io.fits.hdu.image.PrimaryHDU object at 0x7fdd02811b80>]"
      ]
     },
     "execution_count": 26,
     "metadata": {},
     "output_type": "execute_result"
    }
   ],
   "source": [
    "from astroquery.image_cutouts.first import First\n",
    "from astropy import coordinates\n",
    "from astropy import units as u\n",
    "image = First.get_images(coordinates.SkyCoord(162.530*u.deg, 30.677*u.deg,\n",
    "                                               frame='icrs'))\n",
    "image"
   ]
  },
  {
   "cell_type": "code",
   "execution_count": null,
   "metadata": {},
   "outputs": [],
   "source": []
  }
 ],
 "metadata": {
  "kernelspec": {
   "display_name": "astro38",
   "language": "python",
   "name": "python3"
  },
  "language_info": {
   "codemirror_mode": {
    "name": "ipython",
    "version": 3
   },
   "file_extension": ".py",
   "mimetype": "text/x-python",
   "name": "python",
   "nbconvert_exporter": "python",
   "pygments_lexer": "ipython3",
   "version": "3.8.16"
  },
  "orig_nbformat": 4
 },
 "nbformat": 4,
 "nbformat_minor": 2
}
